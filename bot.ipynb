{
 "cells": [
  {
   "cell_type": "code",
   "execution_count": 1,
   "metadata": {},
   "outputs": [],
   "source": [
    "from selenium import webdriver\n",
    "import datetime, re, requests, io, time, random, string\n",
    "from bs4 import BeautifulSoup\n",
    "from credentials import username, password\n",
    "from pymongo import MongoClient\n",
    "client = MongoClient('localhost', 27017)"
   ]
  },
  {
   "cell_type": "code",
   "execution_count": 9,
   "metadata": {},
   "outputs": [
    {
     "data": {
      "text/plain": [
       "'https://wallmine.com/nasdaq/tsla'"
      ]
     },
     "execution_count": 9,
     "metadata": {},
     "output_type": "execute_result"
    }
   ],
   "source": [
    "urls = {\n",
    "    'sign_in': 'https://wallmine.com/users/sign-in',\n",
    "    'homepage': 'https://wallmine.com/',\n",
    "    'view_stock': lambda exchange, symbol: f'https://wallmine.com/{exchange}/{symbol}'\n",
    "}\n",
    "urls['view_stock']('nasdaq', 'tsla')"
   ]
  },
  {
   "cell_type": "code",
   "execution_count": 10,
   "metadata": {},
   "outputs": [
    {
     "data": {
      "text/plain": [
       "'https://wallmine.com/users/sign-in'"
      ]
     },
     "execution_count": 10,
     "metadata": {},
     "output_type": "execute_result"
    }
   ],
   "source": [
    "urls['sign_in']"
   ]
  },
  {
   "cell_type": "code",
   "execution_count": 6,
   "metadata": {},
   "outputs": [],
   "source": [
    "driver = webdriver.Chrome('/Users/amirharrison/downloads/chromedriver')"
   ]
  },
  {
   "cell_type": "code",
   "execution_count": 7,
   "metadata": {},
   "outputs": [],
   "source": [
    "def login():\n",
    "    driver.get(urls['sign_in'])\n",
    "    time.sleep(3)\n",
    "    driver.find_element_by_xpath('//*[@id=\"new_user\"]/div[5]/div[1]/div[2]/a').click()\n",
    "    time.sleep(1)\n",
    "    driver.find_element_by_xpath('//*[@id=\"user_email\"]').send_keys(username)\n",
    "    driver.find_element_by_xpath('//*[@id=\"user_password\"]').send_keys(password)\n",
    "    time.sleep(.2)\n",
    "    driver.find_element_by_xpath('//*[@id=\"new_user\"]/div[5]/div[2]/div[1]/button').click()\n",
    "    time.sleep(3)\n",
    "    if driver.find_element_by_xpath('/html/body/main/section/div[2]/div/div[1]/h1/span'):print('Login Was Successful')"
   ]
  },
  {
   "cell_type": "code",
   "execution_count": 11,
   "metadata": {},
   "outputs": [
    {
     "name": "stdout",
     "output_type": "stream",
     "text": [
      "Login Was Successful\n"
     ]
    }
   ],
   "source": [
    "login()"
   ]
  },
  {
   "cell_type": "code",
   "execution_count": 12,
   "metadata": {},
   "outputs": [],
   "source": [
    "def retrieve_data():\n",
    "#     we need to be on the site after login in order for this method to work\n",
    "    driver.find_element_by_xpath('//*[@id=\"homepage-heatmap\"]/a/div[2]').click()\n",
    "    time.sleep(5)\n",
    "    text = driver.find_element_by_xpath('/html/body/main/section/div[4]/div/div/div[1]/div/div[1]/h1').text\n",
    "    driver.find_element_by_xpath('/html/body/main/section/div[5]/form/div/div/div').click()\n",
    "    if text == 'Free Stock Screener':\n",
    "        print('On the right page')\n",
    "    driver.find_element_by_xpath('/html/body/main/section/div[5]/div/div/div[1]/div/ul/li[1]/a').click()\n",
    "    time.sleep(2)\n",
    "    table_head = driver.find_element_by_xpath('/html/body/main/section/div[5]/div/div/div[2]/table/thead').text\n",
    "    table_body = driver.find_element_by_xpath('/html/body/main/section/div[5]/div/div/div[2]/table/tbody').text\n",
    "    raw_data = [table_head, table_body]\n",
    "    \n",
    "    return raw_data"
   ]
  },
  {
   "cell_type": "code",
   "execution_count": 13,
   "metadata": {},
   "outputs": [
    {
     "name": "stdout",
     "output_type": "stream",
     "text": [
      "On the right page\n"
     ]
    }
   ],
   "source": [
    "got_data = retrieve_data()"
   ]
  },
  {
   "cell_type": "code",
   "execution_count": 14,
   "metadata": {},
   "outputs": [
    {
     "data": {
      "text/plain": [
       "['▴ ▴',\n",
       " 'Symbol',\n",
       " '▴ ▴',\n",
       " 'Company',\n",
       " '▴ ▴',\n",
       " 'Exchange',\n",
       " '▴ ▴',\n",
       " 'Industry',\n",
       " '▴ ▴',\n",
       " 'Market cap',\n",
       " '▴ ▴',\n",
       " 'EBITDA',\n",
       " '▴ ▴',\n",
       " 'P/E',\n",
       " '▴ ▴',\n",
       " 'EV/EBITDA',\n",
       " '▴ ▴',\n",
       " 'Debt/Equity',\n",
       " '▴ ▴',\n",
       " 'Average volume',\n",
       " '▴ ▴',\n",
       " 'Institutional ownership',\n",
       " '▴ ▴',\n",
       " 'Earnings date',\n",
       " '▴ ▴',\n",
       " 'Price',\n",
       " '▴ ▴',\n",
       " 'Performance today']"
      ]
     },
     "execution_count": 14,
     "metadata": {},
     "output_type": "execute_result"
    }
   ],
   "source": [
    "clean_data_head = got_data[0].split('\\n')\n",
    "clean_data_head"
   ]
  },
  {
   "cell_type": "code",
   "execution_count": 15,
   "metadata": {},
   "outputs": [],
   "source": [
    "def remove_characters(x):\n",
    "    if x == '▴ ▴':\n",
    "        return False\n",
    "    else:\n",
    "        return True"
   ]
  },
  {
   "cell_type": "code",
   "execution_count": 16,
   "metadata": {},
   "outputs": [
    {
     "data": {
      "text/plain": [
       "['Symbol',\n",
       " 'Company',\n",
       " 'Exchange',\n",
       " 'Industry',\n",
       " 'Market cap',\n",
       " 'EBITDA',\n",
       " 'P/E',\n",
       " 'EV/EBITDA',\n",
       " 'Debt/Equity',\n",
       " 'Average volume',\n",
       " 'Institutional ownership',\n",
       " 'Earnings date',\n",
       " 'Price',\n",
       " 'Performance today']"
      ]
     },
     "execution_count": 16,
     "metadata": {},
     "output_type": "execute_result"
    }
   ],
   "source": [
    "categories = list(filter(remove_characters, clean_data_head))\n",
    "categories"
   ]
  },
  {
   "cell_type": "code",
   "execution_count": 17,
   "metadata": {},
   "outputs": [
    {
     "data": {
      "text/plain": [
       "'AAPL Apple Inc NASDAQ Consumer Electronics $1.97T $85.159B 32.21 24.07 3.96 114.562M 59.66% 27 Jan 2021 $121.21 +0.51%'"
      ]
     },
     "execution_count": 17,
     "metadata": {},
     "output_type": "execute_result"
    }
   ],
   "source": [
    "clean_data_body = got_data[1].split('\\n')\n",
    "clean_data_body[0]"
   ]
  },
  {
   "cell_type": "code",
   "execution_count": 30,
   "metadata": {},
   "outputs": [
    {
     "data": {
      "text/plain": [
       "['AAPL Apple Inc NASDAQ Consumer Electronics ',\n",
       " '1.97T ',\n",
       " '85.159B 32.21 24.07 3.96 114.562M 59.66% 27 Jan 2021 ',\n",
       " '121.21 +0.51%']"
      ]
     },
     "execution_count": 30,
     "metadata": {},
     "output_type": "execute_result"
    }
   ],
   "source": [
    "split_company = clean_data_body[0].split('$')\n",
    "split_company"
   ]
  },
  {
   "cell_type": "code",
   "execution_count": 20,
   "metadata": {},
   "outputs": [
    {
     "data": {
      "text/plain": [
       "['AAPL', 'Apple', 'Inc', 'NASDAQ', 'Consumer', 'Electronics', '']"
      ]
     },
     "execution_count": 20,
     "metadata": {},
     "output_type": "execute_result"
    }
   ],
   "source": [
    "split_symbol = split_company[0].split(' ')\n",
    "split_symbol"
   ]
  },
  {
   "cell_type": "code",
   "execution_count": 21,
   "metadata": {},
   "outputs": [
    {
     "data": {
      "text/plain": [
       "'Symbol: AAPL'"
      ]
     },
     "execution_count": 21,
     "metadata": {},
     "output_type": "execute_result"
    }
   ],
   "source": [
    "symbol = (f'{categories[0]}: {split_symbol[0]}')\n",
    "symbol"
   ]
  },
  {
   "cell_type": "code",
   "execution_count": 22,
   "metadata": {},
   "outputs": [
    {
     "data": {
      "text/plain": [
       "['AAPL Apple Inc ', ' Consumer Electronics ']"
      ]
     },
     "execution_count": 22,
     "metadata": {},
     "output_type": "execute_result"
    }
   ],
   "source": [
    "company_split =  split_company[0].split('NASDAQ')\n",
    "company_split"
   ]
  },
  {
   "cell_type": "code",
   "execution_count": 23,
   "metadata": {},
   "outputs": [
    {
     "data": {
      "text/plain": [
       "['121.21', '+0.51%']"
      ]
     },
     "execution_count": 23,
     "metadata": {},
     "output_type": "execute_result"
    }
   ],
   "source": [
    "price_split = split_company[3].split(' ')\n",
    "price_split"
   ]
  },
  {
   "cell_type": "code",
   "execution_count": 24,
   "metadata": {},
   "outputs": [
    {
     "data": {
      "text/plain": [
       "'Price: $121.21'"
      ]
     },
     "execution_count": 24,
     "metadata": {},
     "output_type": "execute_result"
    }
   ],
   "source": [
    "price = (f'{categories[12]}: ${price_split[0]}')\n",
    "price"
   ]
  },
  {
   "cell_type": "code",
   "execution_count": 26,
   "metadata": {},
   "outputs": [],
   "source": [
    "def if_nas_or_nyse(x):\n",
    "    if x == 'NASDAQ':\n",
    "        return True\n",
    "    elif x == 'NYSE':\n",
    "        return True\n",
    "    elif x == 'x':\n",
    "        return True\n",
    "    else:\n",
    "        return False"
   ]
  },
  {
   "cell_type": "code",
   "execution_count": 55,
   "metadata": {},
   "outputs": [
    {
     "data": {
      "text/plain": [
       "['AAPL Apple Inc NASDAQ Consumer Electronics ',\n",
       " '1.97T ',\n",
       " '85.159B 32.21 24.07 3.96 114.562M 59.66% 27 Jan 2021 ',\n",
       " '121.21 +0.51%']"
      ]
     },
     "execution_count": 55,
     "metadata": {},
     "output_type": "execute_result"
    }
   ],
   "source": [
    "split_company = clean_data_body[0].split('$')\n",
    "split_company"
   ]
  },
  {
   "cell_type": "code",
   "execution_count": 56,
   "metadata": {},
   "outputs": [],
   "source": [
    "def parse_company(split_company):\n",
    "    result = {}\n",
    "    split_row_one = split_company[0].split(' ')\n",
    "    split_row_two = split_company[1].split(' ')\n",
    "    split_row_three = split_company[2].split(' ')\n",
    "    split_row_four = split_company[3].split(' ')\n",
    "    stop = ['NASDAQ', 'NYSE', 'NYSEMKT']\n",
    "    symbol = split_row_one[0]\n",
    "    price = split_row_four[0]\n",
    "    for n in stop:\n",
    "        if n in split_company[0]:\n",
    "            exchange = n\n",
    "    a = split_row_one.index(exchange)\n",
    "    company_name_arr = split_row_one[1:a]\n",
    "    company_name = ' '.join(str(e) for e in company_name_arr)\n",
    "    result['company_name'] = company_name\n",
    "    result['exchange'] = exchange\n",
    "    result['symbol'] = symbol\n",
    "    result['price'] = price\n",
    "    result['date'] = datetime.datetime.now()\n",
    "    return result # object/dictionary"
   ]
  },
  {
   "cell_type": "code",
   "execution_count": 57,
   "metadata": {},
   "outputs": [
    {
     "data": {
      "text/plain": [
       "{'company_name': 'Apple Inc',\n",
       " 'exchange': 'NASDAQ',\n",
       " 'symbol': 'AAPL',\n",
       " 'price': '121.21',\n",
       " 'date': datetime.datetime(2021, 3, 26, 17, 51, 10, 65706)}"
      ]
     },
     "execution_count": 57,
     "metadata": {},
     "output_type": "execute_result"
    }
   ],
   "source": [
    "parse_company(split_company)"
   ]
  },
  {
   "cell_type": "code",
   "execution_count": 64,
   "metadata": {},
   "outputs": [
    {
     "name": "stdout",
     "output_type": "stream",
     "text": [
      "this works\n",
      "this works\n",
      "this works\n",
      "this works\n",
      "this works\n",
      "this works\n",
      "this works\n",
      "this works\n",
      "this works\n",
      "this works\n",
      "this works\n",
      "this works\n",
      "this works\n",
      "this works\n",
      "this works\n",
      "this works\n",
      "this works\n",
      "this works\n",
      "this works\n",
      "this works\n"
     ]
    }
   ],
   "source": [
    "all_company_data = []\n",
    "for stock in clean_data_body:\n",
    "    if 'N/A' in stock:\n",
    "        print('this works')\n",
    "        continue\n",
    "    elif '¥' in stock:\n",
    "        continue\n",
    "    elif '€' in stock:\n",
    "        continue\n",
    "    split_company = stock.split('$')\n",
    "    \n",
    "    x = parse_company(split_company)\n",
    "    all_company_data.append(x)"
   ]
  },
  {
   "cell_type": "code",
   "execution_count": 66,
   "metadata": {},
   "outputs": [
    {
     "data": {
      "text/plain": [
       "[['Symbol',\n",
       "  'Company',\n",
       "  'Exchange',\n",
       "  'Industry',\n",
       "  'Market cap',\n",
       "  'EBITDA',\n",
       "  'P/E',\n",
       "  'EV/EBITDA',\n",
       "  'Debt/Equity',\n",
       "  'Average volume',\n",
       "  'Institutional ownership',\n",
       "  'Earnings date',\n",
       "  'Price',\n",
       "  'Performance today'],\n",
       " [{'company_name': 'Apple Inc',\n",
       "   'exchange': 'NASDAQ',\n",
       "   'symbol': 'AAPL',\n",
       "   'price': '121.21',\n",
       "   'date': datetime.datetime(2021, 3, 26, 17, 53, 26, 368599)},\n",
       "  {'company_name': 'Microsoft Corporation',\n",
       "   'exchange': 'NASDAQ',\n",
       "   'symbol': 'MSFT',\n",
       "   'price': '236.48',\n",
       "   'date': datetime.datetime(2021, 3, 26, 17, 53, 26, 368615)},\n",
       "  {'company_name': 'Amazon.com Inc.',\n",
       "   'exchange': 'NASDAQ',\n",
       "   'symbol': 'AMZN',\n",
       "   'price': '3,052.03',\n",
       "   'date': datetime.datetime(2021, 3, 26, 17, 53, 26, 368626)},\n",
       "  {'company_name': 'Facebook Inc',\n",
       "   'exchange': 'NASDAQ',\n",
       "   'symbol': 'FB',\n",
       "   'price': '282.96',\n",
       "   'date': datetime.datetime(2021, 3, 26, 17, 53, 26, 368920)},\n",
       "  {'company_name': 'Berkshire Hathaway Inc.',\n",
       "   'exchange': 'NYSE',\n",
       "   'symbol': 'BRK-B',\n",
       "   'price': '256.46',\n",
       "   'date': datetime.datetime(2021, 3, 26, 17, 53, 26, 368980)},\n",
       "  {'company_name': 'Visa Inc',\n",
       "   'exchange': 'NYSE',\n",
       "   'symbol': 'V',\n",
       "   'price': '213.53',\n",
       "   'date': datetime.datetime(2021, 3, 26, 17, 53, 26, 369038)},\n",
       "  {'company_name': 'Johnson & Johnson',\n",
       "   'exchange': 'NYSE',\n",
       "   'symbol': 'JNJ',\n",
       "   'price': '164.93',\n",
       "   'date': datetime.datetime(2021, 3, 26, 17, 53, 26, 369050)},\n",
       "  {'company_name': 'Walmart Inc',\n",
       "   'exchange': 'NYSE',\n",
       "   'symbol': 'WMT',\n",
       "   'price': '135.13',\n",
       "   'date': datetime.datetime(2021, 3, 26, 17, 53, 26, 369061)},\n",
       "  {'company_name': 'Mastercard Incorporated',\n",
       "   'exchange': 'NYSE',\n",
       "   'symbol': 'MA',\n",
       "   'price': '366.14',\n",
       "   'date': datetime.datetime(2021, 3, 26, 17, 53, 26, 369072)},\n",
       "  {'company_name': 'NVIDIA Corp',\n",
       "   'exchange': 'NASDAQ',\n",
       "   'symbol': 'NVDA',\n",
       "   'price': '513.57',\n",
       "   'date': datetime.datetime(2021, 3, 26, 17, 53, 26, 369173)},\n",
       "  {'company_name': 'Home Depot, Inc.',\n",
       "   'exchange': 'NYSE',\n",
       "   'symbol': 'HD',\n",
       "   'price': '303.81',\n",
       "   'date': datetime.datetime(2021, 3, 26, 17, 53, 26, 369186)},\n",
       "  {'company_name': 'PayPal Holdings Inc',\n",
       "   'exchange': 'NASDAQ',\n",
       "   'symbol': 'PYPL',\n",
       "   'price': '241.03',\n",
       "   'date': datetime.datetime(2021, 3, 26, 17, 53, 26, 369196)},\n",
       "  {'company_name': 'Comcast Corp',\n",
       "   'exchange': 'NASDAQ',\n",
       "   'symbol': 'CMCSA',\n",
       "   'price': '55.18',\n",
       "   'date': datetime.datetime(2021, 3, 26, 17, 53, 26, 369232)},\n",
       "  {'company_name': 'Verizon Communications Inc',\n",
       "   'exchange': 'NYSE',\n",
       "   'symbol': 'VZ',\n",
       "   'price': '58.18',\n",
       "   'date': datetime.datetime(2021, 3, 26, 17, 53, 26, 369244)},\n",
       "  {'company_name': 'Coca-Cola Co',\n",
       "   'exchange': 'NYSE',\n",
       "   'symbol': 'KO',\n",
       "   'price': '53.08',\n",
       "   'date': datetime.datetime(2021, 3, 26, 17, 53, 26, 369373)},\n",
       "  {'company_name': 'Adobe Inc',\n",
       "   'exchange': 'NASDAQ',\n",
       "   'symbol': 'ADBE',\n",
       "   'price': '469.09',\n",
       "   'date': datetime.datetime(2021, 3, 26, 17, 53, 26, 369452)},\n",
       "  {'company_name': 'Nike, Inc.',\n",
       "   'exchange': 'NYSE',\n",
       "   'symbol': 'NKE',\n",
       "   'price': '132.99',\n",
       "   'date': datetime.datetime(2021, 3, 26, 17, 53, 26, 369490)},\n",
       "  {'company_name': 'Cisco Systems, Inc.',\n",
       "   'exchange': 'NASDAQ',\n",
       "   'symbol': 'CSCO',\n",
       "   'price': '52.57',\n",
       "   'date': datetime.datetime(2021, 3, 26, 17, 53, 26, 369503)},\n",
       "  {'company_name': 'Abbott Laboratories',\n",
       "   'exchange': 'NYSE',\n",
       "   'symbol': 'ABT',\n",
       "   'price': '122.07',\n",
       "   'date': datetime.datetime(2021, 3, 26, 17, 53, 26, 369540)},\n",
       "  {'company_name': 'Pfizer Inc.',\n",
       "   'exchange': 'NYSE',\n",
       "   'symbol': 'PFE',\n",
       "   'price': '36.25',\n",
       "   'date': datetime.datetime(2021, 3, 26, 17, 53, 26, 369598)},\n",
       "  {'company_name': 'Merck & Co Inc',\n",
       "   'exchange': 'NYSE',\n",
       "   'symbol': 'MRK',\n",
       "   'price': '77.45',\n",
       "   'date': datetime.datetime(2021, 3, 26, 17, 53, 26, 369610)},\n",
       "  {'company_name': 'Broadcom Inc',\n",
       "   'exchange': 'NASDAQ',\n",
       "   'symbol': 'AVGO',\n",
       "   'price': '482.04',\n",
       "   'date': datetime.datetime(2021, 3, 26, 17, 53, 26, 369620)},\n",
       "  {'company_name': 'Oracle Corp.',\n",
       "   'exchange': 'NYSE',\n",
       "   'symbol': 'ORCL',\n",
       "   'price': '70.24',\n",
       "   'date': datetime.datetime(2021, 3, 26, 17, 53, 26, 369656)},\n",
       "  {'company_name': 'Salesforce.Com Inc',\n",
       "   'exchange': 'NYSE',\n",
       "   'symbol': 'CRM',\n",
       "   'price': '209.09',\n",
       "   'date': datetime.datetime(2021, 3, 26, 17, 53, 26, 369667)},\n",
       "  {'company_name': 'Abbvie Inc',\n",
       "   'exchange': 'NYSE',\n",
       "   'symbol': 'ABBV',\n",
       "   'price': '105.97',\n",
       "   'date': datetime.datetime(2021, 3, 26, 17, 53, 26, 369676)},\n",
       "  {'company_name': 'PepsiCo Inc',\n",
       "   'exchange': 'NASDAQ',\n",
       "   'symbol': 'PEP',\n",
       "   'price': '142.70',\n",
       "   'date': datetime.datetime(2021, 3, 26, 17, 53, 26, 369686)},\n",
       "  {'company_name': 'Lilly(Eli) & Co',\n",
       "   'exchange': 'NYSE',\n",
       "   'symbol': 'LLY',\n",
       "   'price': '185.31',\n",
       "   'date': datetime.datetime(2021, 3, 26, 17, 53, 26, 369696)}]]"
      ]
     },
     "execution_count": 66,
     "metadata": {},
     "output_type": "execute_result"
    }
   ],
   "source": [
    "final_list = [categories, all_company_data]\n",
    "final_list"
   ]
  },
  {
   "cell_type": "code",
   "execution_count": null,
   "metadata": {},
   "outputs": [],
   "source": []
  }
 ],
 "metadata": {
  "kernelspec": {
   "display_name": "Python 3",
   "language": "python",
   "name": "python3"
  },
  "language_info": {
   "codemirror_mode": {
    "name": "ipython",
    "version": 3
   },
   "file_extension": ".py",
   "mimetype": "text/x-python",
   "name": "python",
   "nbconvert_exporter": "python",
   "pygments_lexer": "ipython3",
   "version": "3.8.5"
  }
 },
 "nbformat": 4,
 "nbformat_minor": 4
}
